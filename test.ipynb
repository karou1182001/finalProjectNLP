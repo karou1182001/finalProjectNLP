{
 "cells": [
  {
   "cell_type": "markdown",
   "id": "150df6fa",
   "metadata": {},
   "source": [
    "Import necessary things"
   ]
  },
  {
   "cell_type": "code",
   "execution_count": 1,
   "id": "8f3e33eb",
   "metadata": {},
   "outputs": [],
   "source": [
    "#THIS IS FOR USING JUST ONE GPU\n",
    "import os\n",
    "os.environ[\"CUDA_VISIBLE_DEVICES\"] = \"0\"\n"
   ]
  },
  {
   "cell_type": "code",
   "execution_count": 2,
   "id": "99af525d",
   "metadata": {},
   "outputs": [
    {
     "name": "stderr",
     "output_type": "stream",
     "text": [
      "/home/maria/anaconda3/envs/myenv/lib/python3.10/site-packages/tqdm/auto.py:21: TqdmWarning: IProgress not found. Please update jupyter and ipywidgets. See https://ipywidgets.readthedocs.io/en/stable/user_install.html\n",
      "  from .autonotebook import tqdm as notebook_tqdm\n"
     ]
    }
   ],
   "source": [
    "from datasets import load_dataset, DatasetDict\n",
    "from transformers import GPT2Tokenizer, GPT2LMHeadModel, Trainer, TrainingArguments\n",
    "import torch, re, json\n",
    "from sklearn.model_selection import train_test_split\n",
    "from tqdm import tqdm\n"
   ]
  },
  {
   "cell_type": "markdown",
   "id": "22931dce",
   "metadata": {},
   "source": [
    "Verify if we have GPU"
   ]
  },
  {
   "cell_type": "code",
   "execution_count": null,
   "id": "8d013e6a",
   "metadata": {},
   "outputs": [
    {
     "name": "stdout",
     "output_type": "stream",
     "text": [
      "CUDA available? True\n",
      "Number of CUDA devices: 1\n"
     ]
    }
   ],
   "source": [
    "#HERE WE CONFIRM THAT WE ARE JUST USING 1 GPU\n",
    "print(\"CUDA available?\", torch.cuda.is_available())\n",
    "\n",
    "if torch.cuda.is_available():\n",
    "    n_gpus = torch.cuda.device_count()\n",
    "    print(f\"Number of CUDA devices: {n_gpus}\")\n"
   ]
  },
  {
   "cell_type": "markdown",
   "id": "753cec8a",
   "metadata": {},
   "source": [
    "Load dataset and split it"
   ]
  },
  {
   "cell_type": "code",
   "execution_count": 4,
   "id": "354269df",
   "metadata": {},
   "outputs": [
    {
     "name": "stdout",
     "output_type": "stream",
     "text": [
      "Splits - Train: 6473, Val: 800, Test: 200\n"
     ]
    }
   ],
   "source": [
    "# Load and mix dataset\n",
    "gsm8k = load_dataset(\"gsm8k\", \"main\")\n",
    "all_data = gsm8k[\"train\"].shuffle(seed=42)\n",
    "\n",
    "# Select quantity\n",
    "max_samples = min(8000, len(all_data))\n",
    "all_data = all_data.select(range(max_samples))\n",
    "\n",
    "# Divide trainig, val and test `train_test_split` de Hugging Face\n",
    "split = all_data.train_test_split(test_size=200, seed=42)\n",
    "train_val = split[\"train\"]\n",
    "test_data = split[\"test\"]\n",
    "\n",
    "split2 = train_val.train_test_split(test_size=800, seed=42)\n",
    "train_data = split2[\"train\"]\n",
    "val_data = split2[\"test\"]\n",
    "\n",
    "print(f\"Splits - Train: {len(train_data)}, Val: {len(val_data)}, Test: {len(test_data)}\")\n"
   ]
  },
  {
   "cell_type": "markdown",
   "id": "d4f5a8f4",
   "metadata": {},
   "source": [
    "Load tokenizer and model GPT-2"
   ]
  },
  {
   "cell_type": "code",
   "execution_count": 5,
   "id": "0ea07d05",
   "metadata": {},
   "outputs": [
    {
     "data": {
      "text/plain": [
       "GPT2LMHeadModel(\n",
       "  (transformer): GPT2Model(\n",
       "    (wte): Embedding(50257, 768)\n",
       "    (wpe): Embedding(1024, 768)\n",
       "    (drop): Dropout(p=0.1, inplace=False)\n",
       "    (h): ModuleList(\n",
       "      (0-11): 12 x GPT2Block(\n",
       "        (ln_1): LayerNorm((768,), eps=1e-05, elementwise_affine=True)\n",
       "        (attn): GPT2Attention(\n",
       "          (c_attn): Conv1D(nf=2304, nx=768)\n",
       "          (c_proj): Conv1D(nf=768, nx=768)\n",
       "          (attn_dropout): Dropout(p=0.1, inplace=False)\n",
       "          (resid_dropout): Dropout(p=0.1, inplace=False)\n",
       "        )\n",
       "        (ln_2): LayerNorm((768,), eps=1e-05, elementwise_affine=True)\n",
       "        (mlp): GPT2MLP(\n",
       "          (c_fc): Conv1D(nf=3072, nx=768)\n",
       "          (c_proj): Conv1D(nf=768, nx=3072)\n",
       "          (act): NewGELUActivation()\n",
       "          (dropout): Dropout(p=0.1, inplace=False)\n",
       "        )\n",
       "      )\n",
       "    )\n",
       "    (ln_f): LayerNorm((768,), eps=1e-05, elementwise_affine=True)\n",
       "  )\n",
       "  (lm_head): Linear(in_features=768, out_features=50257, bias=False)\n",
       ")"
      ]
     },
     "execution_count": 5,
     "metadata": {},
     "output_type": "execute_result"
    }
   ],
   "source": [
    "tokenizer = GPT2Tokenizer.from_pretrained(\"gpt2\")\n",
    "tokenizer.pad_token = tokenizer.eos_token\n",
    "\n",
    "model = GPT2LMHeadModel.from_pretrained(\"gpt2\")\n",
    "model.resize_token_embeddings(len(tokenizer))\n",
    "device = torch.device(\"cuda\" if torch.cuda.is_available() else \"cpu\")\n",
    "model.to(device)\n"
   ]
  },
  {
   "cell_type": "markdown",
   "id": "22d7de74",
   "metadata": {},
   "source": [
    "5. Preprocessing Function\n",
    "This function prepares the data for training:\n",
    "\n",
    "- It creates input prompts in the format \"Q: <question>\\nA:\".\n",
    "\n",
    "- It uses the tokenizer to convert both the input and the answer (target) into token IDs.\n",
    "\n",
    "- It adds those target token IDs as \"labels\" — which is what the model will try to predict."
   ]
  },
  {
   "cell_type": "code",
   "execution_count": 6,
   "id": "21fdb99e",
   "metadata": {},
   "outputs": [],
   "source": [
    "def preprocess_fn(examples):\n",
    "    # Format: Q: <question>\\nA: <answer>\n",
    "    texts = [\"Q: \" + q + \"\\nA: \" + a for q, a in zip(examples[\"question\"], examples[\"answer\"])]\n",
    "    # Tokenize full sequence (input + target)\n",
    "    tokenized = tokenizer(\n",
    "        texts,\n",
    "        padding=\"max_length\",\n",
    "        truncation=True,\n",
    "        max_length=512\n",
    "    )\n",
    "    # We use the same tokens for both input and labels (causal LM)\n",
    "    tokenized[\"labels\"] = tokenized[\"input_ids\"].copy()\n",
    "    return tokenized\n"
   ]
  },
  {
   "cell_type": "markdown",
   "id": "8da9995c",
   "metadata": {},
   "source": [
    "6. Tokenizing the dataset\n",
    "\n",
    "Applies the preprocess_fn to the training and validation datasets to convert them into tokenized versions that are ready for training."
   ]
  },
  {
   "cell_type": "code",
   "execution_count": 7,
   "id": "a7fbcfaf",
   "metadata": {},
   "outputs": [
    {
     "name": "stderr",
     "output_type": "stream",
     "text": [
      "Map: 100%|██████████| 6473/6473 [00:05<00:00, 1236.42 examples/s]\n",
      "Map: 100%|██████████| 800/800 [00:00<00:00, 1165.63 examples/s]\n"
     ]
    }
   ],
   "source": [
    "tokenized_train = train_data.map(preprocess_fn, batched=True, remove_columns=train_data.column_names)\n",
    "tokenized_val   = val_data.map(preprocess_fn, batched=True, remove_columns=val_data.column_names)\n"
   ]
  },
  {
   "cell_type": "markdown",
   "id": "7894d875",
   "metadata": {},
   "source": [
    "7. Training Configuration\n",
    "\n",
    "Sets up the training parameters:\n",
    "\n",
    "How many epochs to train\n",
    "Batch sizes\n",
    "Learning rate\n",
    "Whether to evaluate and save every epoch\n",
    "Logging frequency"
   ]
  },
  {
   "cell_type": "code",
   "execution_count": 9,
   "id": "49071326",
   "metadata": {},
   "outputs": [],
   "source": [
    "from transformers import TrainingArguments\n",
    "training_args = TrainingArguments(\n",
    "    output_dir=\"./gpt2-gsm8k-finetuned\",\n",
    "    num_train_epochs=1,\n",
    "    per_device_train_batch_size=4,\n",
    "    per_device_eval_batch_size=4,\n",
    "    learning_rate=5e-5,\n",
    "    weight_decay=0.01,\n",
    "    eval_strategy=\"epoch\",\n",
    "    save_strategy=\"epoch\",\n",
    "    logging_steps=100,\n",
    "    push_to_hub=False\n",
    ")\n"
   ]
  },
  {
   "cell_type": "markdown",
   "id": "7a550f66",
   "metadata": {},
   "source": [
    "8. Training the model\n",
    "\n",
    "- Wraps the model and data in a Trainer from Hugging Face.\n",
    "\n",
    "- Begins training (fine-tuning) GPT-2 on the GSM8K dataset.\n",
    "\n",
    "- Saves the fine-tuned model when finished.\n",
    "\n"
   ]
  },
  {
   "cell_type": "code",
   "execution_count": 10,
   "id": "298c4120",
   "metadata": {},
   "outputs": [
    {
     "name": "stderr",
     "output_type": "stream",
     "text": [
      "/tmp/ipykernel_1208354/1173768627.py:1: FutureWarning: `tokenizer` is deprecated and will be removed in version 5.0.0 for `Trainer.__init__`. Use `processing_class` instead.\n",
      "  trainer = Trainer(\n",
      "Detected kernel version 5.4.0, which is below the recommended minimum of 5.5.0; this can cause the process to hang. It is recommended to upgrade the kernel to the minimum version or higher.\n",
      "`loss_type=None` was set in the config but it is unrecognised.Using the default loss: `ForCausalLMLoss`.\n"
     ]
    },
    {
     "name": "stdout",
     "output_type": "stream",
     "text": [
      "Starting fine-tuning…\n"
     ]
    },
    {
     "data": {
      "text/html": [
       "\n",
       "    <div>\n",
       "      \n",
       "      <progress value='1619' max='1619' style='width:300px; height:20px; vertical-align: middle;'></progress>\n",
       "      [1619/1619 02:38, Epoch 1/1]\n",
       "    </div>\n",
       "    <table border=\"1\" class=\"dataframe\">\n",
       "  <thead>\n",
       " <tr style=\"text-align: left;\">\n",
       "      <th>Epoch</th>\n",
       "      <th>Training Loss</th>\n",
       "      <th>Validation Loss</th>\n",
       "    </tr>\n",
       "  </thead>\n",
       "  <tbody>\n",
       "    <tr>\n",
       "      <td>1</td>\n",
       "      <td>0.484100</td>\n",
       "      <td>0.460805</td>\n",
       "    </tr>\n",
       "  </tbody>\n",
       "</table><p>"
      ],
      "text/plain": [
       "<IPython.core.display.HTML object>"
      ]
     },
     "metadata": {},
     "output_type": "display_data"
    }
   ],
   "source": [
    "trainer = Trainer(\n",
    "    model=model,\n",
    "    args=training_args,\n",
    "    train_dataset=tokenized_train,\n",
    "    eval_dataset=tokenized_val,\n",
    "    tokenizer=tokenizer\n",
    ")\n",
    "\n",
    "print(\"Starting fine-tuning…\")\n",
    "trainer.train()\n",
    "trainer.save_model(\"./gpt2-gsm8k-finetuned\")\n"
   ]
  },
  {
   "cell_type": "markdown",
   "id": "7fcb2c40",
   "metadata": {},
   "source": [
    " 9. Load the fine-tuned model for testing\n",
    "\n",
    " Loads the model that was just fine-tuned and puts it into evaluation mode (so it doesn't keep training or updating weights)"
   ]
  },
  {
   "cell_type": "code",
   "execution_count": 11,
   "id": "aa75d9c0",
   "metadata": {},
   "outputs": [
    {
     "data": {
      "text/plain": [
       "GPT2LMHeadModel(\n",
       "  (transformer): GPT2Model(\n",
       "    (wte): Embedding(50257, 768)\n",
       "    (wpe): Embedding(1024, 768)\n",
       "    (drop): Dropout(p=0.1, inplace=False)\n",
       "    (h): ModuleList(\n",
       "      (0-11): 12 x GPT2Block(\n",
       "        (ln_1): LayerNorm((768,), eps=1e-05, elementwise_affine=True)\n",
       "        (attn): GPT2Attention(\n",
       "          (c_attn): Conv1D(nf=2304, nx=768)\n",
       "          (c_proj): Conv1D(nf=768, nx=768)\n",
       "          (attn_dropout): Dropout(p=0.1, inplace=False)\n",
       "          (resid_dropout): Dropout(p=0.1, inplace=False)\n",
       "        )\n",
       "        (ln_2): LayerNorm((768,), eps=1e-05, elementwise_affine=True)\n",
       "        (mlp): GPT2MLP(\n",
       "          (c_fc): Conv1D(nf=3072, nx=768)\n",
       "          (c_proj): Conv1D(nf=768, nx=3072)\n",
       "          (act): NewGELUActivation()\n",
       "          (dropout): Dropout(p=0.1, inplace=False)\n",
       "        )\n",
       "      )\n",
       "    )\n",
       "    (ln_f): LayerNorm((768,), eps=1e-05, elementwise_affine=True)\n",
       "  )\n",
       "  (lm_head): Linear(in_features=768, out_features=50257, bias=False)\n",
       ")"
      ]
     },
     "execution_count": 11,
     "metadata": {},
     "output_type": "execute_result"
    }
   ],
   "source": [
    "model = GPT2LMHeadModel.from_pretrained(\"./gpt2-gsm8k-finetuned\")\n",
    "model.to(device)\n",
    "model.eval()\n"
   ]
  },
  {
   "cell_type": "markdown",
   "id": "c38b7448",
   "metadata": {},
   "source": [
    "10. Generate predictions on test set\n",
    "\n",
    "For each test question:\n",
    "\n",
    "- Generates an answer using the fine-tuned model.\n",
    "\n",
    "- Extracts the numeric answer from both the prediction and the ground truth.\n",
    "\n",
    "- Compares them and stores the result if correct."
   ]
  },
  {
   "cell_type": "code",
   "execution_count": 13,
   "id": "323012a5",
   "metadata": {},
   "outputs": [
    {
     "name": "stdout",
     "output_type": "stream",
     "text": [
      "Generating answers on test set…\n"
     ]
    },
    {
     "name": "stderr",
     "output_type": "stream",
     "text": [
      "100%|██████████| 200/200 [01:46<00:00,  1.87it/s]\n"
     ]
    }
   ],
   "source": [
    "def extract_number(text):\n",
    "    m = re.search(r\"####\\s*(-?\\d+)\", text)\n",
    "    return int(m.group(1)) if m else None\n",
    "\n",
    "predictions, correct_preds = [], []\n",
    "print(\"Generating answers on test set…\")\n",
    "for item in tqdm(test_data):\n",
    "    q, gold = item[\"question\"], item[\"answer\"]\n",
    "    prompt = f\"Q: {q}\\nA:\"\n",
    "    inputs = tokenizer(prompt, return_tensors=\"pt\", padding=True).to(device)\n",
    "\n",
    "    with torch.no_grad():\n",
    "        out = model.generate(\n",
    "            **inputs,\n",
    "            max_new_tokens=128,\n",
    "            temperature=0.7,\n",
    "            do_sample=False,\n",
    "            pad_token_id=tokenizer.eos_token_id\n",
    "        )\n",
    "\n",
    "    decoded = tokenizer.decode(out[0], skip_special_tokens=True)\n",
    "    pred_text = decoded.split(\"A:\")[-1].strip()\n",
    "    predictions.append({\"question\": q, \"predicted_answer\": pred_text, \"gold_answer\": gold})\n",
    "    if (pn := extract_number(pred_text)) is not None and pn == extract_number(gold):\n",
    "        correct_preds.append(predictions[-1])\n"
   ]
  },
  {
   "cell_type": "markdown",
   "id": "496f80c3",
   "metadata": {},
   "source": [
    "11. Calculate accuracy and save results\n",
    "\n",
    "- Prints how many answers were correct.\n",
    "\n",
    "- Calculates and displays the accuracy.\n",
    "\n",
    "- Saves all predictions and correct predictions to .json files."
   ]
  },
  {
   "cell_type": "code",
   "execution_count": 14,
   "id": "e9efdd6a",
   "metadata": {},
   "outputs": [
    {
     "name": "stdout",
     "output_type": "stream",
     "text": [
      "\n",
      "Test size: 200\n",
      "Correct:   2\n",
      "Accuracy:  1.00%\n",
      "Done.\n"
     ]
    }
   ],
   "source": [
    "print(f\"\\nTest size: {len(predictions)}\")\n",
    "print(f\"Correct:   {len(correct_preds)}\")\n",
    "print(f\"Accuracy:  {len(correct_preds)/len(predictions):.2%}\")\n",
    "\n",
    "with open(\"finetuned_predictions.json\", \"w\") as f:\n",
    "    json.dump(predictions, f, indent=2)\n",
    "\n",
    "with open(\"finetuned_correct.json\", \"w\") as f:\n",
    "    json.dump(correct_preds, f, indent=2)\n",
    "\n",
    "print(\"Done.\")\n"
   ]
  }
 ],
 "metadata": {
  "kernelspec": {
   "display_name": "myenv",
   "language": "python",
   "name": "python3"
  },
  "language_info": {
   "codemirror_mode": {
    "name": "ipython",
    "version": 3
   },
   "file_extension": ".py",
   "mimetype": "text/x-python",
   "name": "python",
   "nbconvert_exporter": "python",
   "pygments_lexer": "ipython3",
   "version": "3.10.16"
  }
 },
 "nbformat": 4,
 "nbformat_minor": 5
}
