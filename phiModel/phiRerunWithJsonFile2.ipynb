{
 "cells": [
  {
   "cell_type": "code",
   "execution_count": 1,
   "id": "95ccbcca",
   "metadata": {},
   "outputs": [],
   "source": [
    "#THIS IS FOR USING JUST ONE GPU\n",
    "import os\n",
    "os.environ[\"CUDA_VISIBLE_DEVICES\"] = \"0\"\n"
   ]
  },
  {
   "cell_type": "code",
   "execution_count": 2,
   "id": "ef60047e",
   "metadata": {},
   "outputs": [
    {
     "name": "stderr",
     "output_type": "stream",
     "text": [
      "/home/maria/anaconda3/envs/myenv/lib/python3.10/site-packages/tqdm/auto.py:21: TqdmWarning: IProgress not found. Please update jupyter and ipywidgets. See https://ipywidgets.readthedocs.io/en/stable/user_install.html\n",
      "  from .autonotebook import tqdm as notebook_tqdm\n"
     ]
    }
   ],
   "source": [
    "from transformers import AutoModelForCausalLM, AutoTokenizer\n",
    "import torch\n",
    "import re\n",
    "import json\n",
    "from tqdm import tqdm"
   ]
  },
  {
   "cell_type": "markdown",
   "id": "64d9d1f3",
   "metadata": {},
   "source": [
    "Load dataset"
   ]
  },
  {
   "cell_type": "code",
   "execution_count": 4,
   "id": "23dda31a",
   "metadata": {},
   "outputs": [
    {
     "name": "stdout",
     "output_type": "stream",
     "text": [
      "Loaded 201 examples.\n"
     ]
    }
   ],
   "source": [
    "with open(\"perfect_subset_phi.json\", \"r\") as f:\n",
    "    dataset = json.load(f)\n",
    "\n",
    "print(f\"Loaded {len(dataset)} examples.\")"
   ]
  },
  {
   "cell_type": "markdown",
   "id": "4a445986",
   "metadata": {},
   "source": [
    "-Load finetune model from Hugging Face"
   ]
  },
  {
   "cell_type": "code",
   "execution_count": 5,
   "id": "7e840f43",
   "metadata": {},
   "outputs": [
    {
     "name": "stderr",
     "output_type": "stream",
     "text": [
      "Fetching 2 files: 100%|██████████| 2/2 [01:28<00:00, 44.25s/it]\n",
      "Loading checkpoint shards: 100%|██████████| 2/2 [00:00<00:00, 33.61it/s]\n"
     ]
    },
    {
     "name": "stdout",
     "output_type": "stream",
     "text": [
      "Model loaded from Hugging Face.\n"
     ]
    }
   ],
   "source": [
    "\n",
    "model = AutoModelForCausalLM.from_pretrained(\"karou1182001/fine-tuned-phi\")\n",
    "tokenizer = AutoTokenizer.from_pretrained(\"karou1182001/fine-tuned-phi\")\n",
    "model.eval().to(\"cuda\" if torch.cuda.is_available() else \"cpu\")\n",
    "print(\"Model loaded from Hugging Face.\")"
   ]
  },
  {
   "cell_type": "markdown",
   "id": "70a3acd9",
   "metadata": {},
   "source": [
    "Evaluate dataset"
   ]
  },
  {
   "cell_type": "code",
   "execution_count": null,
   "id": "6f7ce506",
   "metadata": {},
   "outputs": [],
   "source": [
    "correct = 0\n",
    "first_printed = False\n",
    "\n",
    "for item in tqdm(dataset, desc=\"Evaluating...\"):\n",
    "    question = item[\"question\"].strip()\n",
    "    gold = str(item[\"gold_num\"])\n",
    "\n",
    "    # Zero-shot prompt \n",
    "    prompt = question + \"\\nA:\"\n",
    "    inputs = tokenizer(prompt, return_tensors=\"pt\").to(model.device)\n",
    "\n",
    "    with torch.no_grad():\n",
    "        outputs = model.generate(**inputs, max_new_tokens=50)\n",
    "        decoded = tokenizer.decode(outputs[0], skip_special_tokens=True)\n",
    "\n",
    "    pred_numbers = re.findall(r\"\\d+\", decoded)\n",
    "    prediction = pred_numbers[-1] if pred_numbers else None\n",
    "\n",
    "    if not first_printed:\n",
    "        print(\"\\nFirst Example:\")\n",
    "        print(f\"Question: {question}\")\n",
    "        print(f\"Expected (gold): {gold}\")\n",
    "        print(f\"Predicted: {prediction}\")\n",
    "        first_printed = True\n",
    "\n",
    "    if prediction == gold:\n",
    "        correct += 1\n",
    "\n",
    "total = len(dataset)\n",
    "accuracy = correct / total * 100\n",
    "\n",
    "print(f\"\\nCorrect predictions: {correct}/{total}\")\n",
    "print(f\"Accuracy on dataset (zero-shot): {accuracy:.2f}%\")\n"
   ]
  }
 ],
 "metadata": {
  "kernelspec": {
   "display_name": "myenv",
   "language": "python",
   "name": "python3"
  },
  "language_info": {
   "codemirror_mode": {
    "name": "ipython",
    "version": 3
   },
   "file_extension": ".py",
   "mimetype": "text/x-python",
   "name": "python",
   "nbconvert_exporter": "python",
   "pygments_lexer": "ipython3",
   "version": "3.10.16"
  }
 },
 "nbformat": 4,
 "nbformat_minor": 5
}
