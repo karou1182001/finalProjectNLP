{
 "cells": [
  {
   "cell_type": "code",
   "execution_count": null,
   "id": "d888b3cc",
   "metadata": {},
   "outputs": [],
   "source": [
    "!pip install transformers datasets evaluate"
   ]
  },
  {
   "cell_type": "markdown",
   "id": "5c84a295",
   "metadata": {},
   "source": [
    "# Load Dataset"
   ]
  },
  {
   "cell_type": "code",
   "execution_count": null,
   "id": "85f5fc7a",
   "metadata": {},
   "outputs": [],
   "source": [
    "from datasets import load_dataset\n",
    "\n",
    "# Load dataset\n",
    "dataset = load_dataset(\"gsm8k\", \"main\")\n",
    "\n",
    "# See examples\n",
    "print(\"Train size:\", len(dataset['train']))\n",
    "print(\"Test size:\", len(dataset['test']))\n"
   ]
  },
  {
   "cell_type": "markdown",
   "id": "835d9291",
   "metadata": {},
   "source": [
    "See an example of the dataset"
   ]
  },
  {
   "cell_type": "code",
   "execution_count": null,
   "id": "9496cbeb",
   "metadata": {},
   "outputs": [],
   "source": [
    "\n",
    "sample = dataset['train'][0]\n",
    "print(\"Question:\", sample['question'])\n",
    "print(\"Answer:\", sample['answer'])\n"
   ]
  }
 ],
 "metadata": {
  "kernelspec": {
   "display_name": "myenv",
   "language": "python",
   "name": "python3"
  },
  "language_info": {
   "name": "python",
   "version": "3.10.16"
  }
 },
 "nbformat": 4,
 "nbformat_minor": 5
}
