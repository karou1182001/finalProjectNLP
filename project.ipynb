{
 "cells": [
  {
   "cell_type": "code",
   "execution_count": null,
   "id": "d888b3cc",
   "metadata": {
    "vscode": {
     "languageId": "plaintext"
    }
   },
   "outputs": [],
   "source": [
    "print(\"Hello world\")"
   ]
  },
  {
   "cell_type": "markdown",
   "id": "099e7945",
   "metadata": {},
   "source": [
    "conda create --name myenv python=3.10"
   ]
  }
 ],
 "metadata": {
  "language_info": {
   "name": "python"
  }
 },
 "nbformat": 4,
 "nbformat_minor": 5
}
